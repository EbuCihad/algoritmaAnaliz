from scipy.stats import poisson
import numpy as np
import matplotlib.pyplot as plt

p25 = poisson(25)
k = 20
result = p25.cdf(k)
print (result) # 0.1854
n = 50
x = np.linspace(0,n,n+1) 
cdf25 = np.array([p25.cdf(i) for i in x])
plt.plot(x, cdf25, 'r')
plt.scatter([k],[result],c="b")
plt.title("Poisson Kumulatif Olasilik Kutle Fonksiyonu")
plt.legend(["Poisson-CDF(25)","Poisson-CDF(25)(50)"])
plt.savefig("cdf.png")
